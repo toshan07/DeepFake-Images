{
  "cells": [
    {
      "cell_type": "markdown",
      "metadata": {},
      "source": [
        "~ This is a kaggle Notebook"
      ]
    },
    {
      "cell_type": "markdown",
      "metadata": {
        "id": "KIxA2VeH2ADr"
      },
      "source": [
        "# **DeepFake Image Detection**\n",
        "Implementing Research Paper \"Towards Universal Fake Image Detectors that generalize Across Generative Models\""
      ]
    },
    {
      "cell_type": "markdown",
      "metadata": {
        "id": "g16st7iU19BK"
      },
      "source": [
        "# **Unzipping the data**"
      ]
    },
    {
      "cell_type": "markdown",
      "metadata": {
        "id": "76PxfqfO2fAt"
      },
      "source": [
        "Diffusion Models"
      ]
    },
    {
      "cell_type": "code",
      "execution_count": 2,
      "metadata": {
        "id": "9tmPiKKfDxA7"
      },
      "outputs": [],
      "source": [
        "#<------------------------------------------------------------------------------------------------------------------------------------------------------------------------>\n",
        "import zipfile\n",
        "zip_file_path = '/content/drive/MyDrive/Copy of diffusion_datasets.zip'\n",
        "extracted_dir = '/content/diffusion'\n",
        "with zipfile.ZipFile(zip_file_path, 'r') as zip_ref:\n",
        "    zip_ref.extractall(extracted_dir)\n",
        "#<------------------------------------------------------------------------------------------------------------------------------------------------------------------------>"
      ]
    },
    {
      "cell_type": "markdown",
      "metadata": {
        "id": "E2rtfIF42iSH"
      },
      "source": [
        "GAN Models"
      ]
    },
    {
      "cell_type": "code",
      "execution_count": 3,
      "metadata": {
        "id": "tnZEPBpGEZ5w"
      },
      "outputs": [],
      "source": [
        "#<------------------------------------------------------------------------------------------------------------------------------------------------------------------------>\n",
        "import zipfile\n",
        "zip_file_path = '/content/drive/MyDrive/Copy of CNN_synth_testset.zip'\n",
        "extracted_dir = '/content/gan'\n",
        "with zipfile.ZipFile(zip_file_path, 'r') as zip_ref:\n",
        "    zip_ref.extractall(extracted_dir)\n",
        "#<------------------------------------------------------------------------------------------------------------------------------------------------------------------------>"
      ]
    },
    {
      "cell_type": "markdown",
      "metadata": {
        "id": "3facobkS2pAw"
      },
      "source": [
        "Checking availability of GPU"
      ]
    },
    {
      "cell_type": "code",
      "execution_count": 4,
      "metadata": {
        "colab": {
          "base_uri": "https://localhost:8080/"
        },
        "id": "2LHEDClWDgyD",
        "outputId": "e06a929a-a4de-4615-e377-f4360a2d35ca"
      },
      "outputs": [
        {
          "name": "stdout",
          "output_type": "stream",
          "text": [
            "CUDA is available. Using GPU.\n"
          ]
        }
      ],
      "source": [
        "#<------------------------------------------------------------------------------------------------------------------------------------------------------------------------>\n",
        "import torch\n",
        "if torch.cuda.is_available():\n",
        "    device = torch.device(\"cuda\")\n",
        "    print(\"CUDA is available. Using GPU.\")\n",
        "else:\n",
        "    device = torch.device(\"cpu\")\n",
        "    print(\"CUDA is not available. Using CPU.\")\n",
        "#<------------------------------------------------------------------------------------------------------------------------------------------------------------------------>"
      ]
    },
    {
      "cell_type": "markdown",
      "metadata": {},
      "source": [
        "**Importing the libraries**"
      ]
    },
    {
      "cell_type": "code",
      "execution_count": 1,
      "metadata": {},
      "outputs": [],
      "source": [
        "#Importing the libraries\n",
        "#<------------------------------------------------------------------------------------------------------------------------------------------------------------------------>\n",
        "import os\n",
        "import numpy as np\n",
        "from PIL import Image\n",
        "import cv2\n",
        "#<------------------------------------------------------------------------------------------------------------------------------------------------------------------------>"
      ]
    },
    {
      "cell_type": "markdown",
      "metadata": {
        "id": "07ot87jR27nQ"
      },
      "source": [
        "# **Data Reading**\n",
        "- Reading data from **ProGan** (Real and Fake Images) for **Training Phase**\n",
        "- It iterate over each file and **Reads** the image using cv2.imread()\n",
        "- It checks if the image is in **RGB Format** and appends the image if it satisfies this criterion\n",
        "- Now we **Resize** the image into **(224,224,3)** dimensions"
      ]
    },
    {
      "cell_type": "markdown",
      "metadata": {
        "id": "FHbfkYybO7A5"
      },
      "source": [
        "Use the below code to load images if you want to load the data from the unzipped file"
      ]
    },
    {
      "cell_type": "code",
      "execution_count": 60,
      "metadata": {
        "id": "S6j1S0_hE3Xo"
      },
      "outputs": [],
      "source": [
        "#<------------------------------------------------------------------------------------------------------------------------------------------------------------------------>\n",
        "#Inititlaizing empty lists for storing images\n",
        "real_img=[]\n",
        "fake_img=[]\n",
        "#path of folder to my training data\n",
        "folders=os.listdir(\"/content/gan/progan\")\n",
        "os.chdir(\"/content/gan/progan\")\n",
        "\n",
        "#Iterating into each folder\n",
        "for i in folders:\n",
        "    content=os.listdir(i)  #contains ['0_real,'1_fake']\n",
        "\n",
        "    path=os.path.join(i,content[0])\n",
        "    subfld=os.listdir(path)  #contains list of all images\n",
        "    for j in subfld:\n",
        "        img_path=os.path.join(i,content[0],j)\n",
        "        #Reading the image\n",
        "        img=np.array(Image.open(img_path))\n",
        "        #Checking if it is a RGB image\n",
        "        if len(np.shape(img))==3:\n",
        "            real_img.append(img)\n",
        "\n",
        "    path=os.path.join(i,content[1])\n",
        "    subfld=os.listdir(path)\n",
        "    for j in subfld:\n",
        "        img_path=os.path.join(i,content[1],j)\n",
        "        #Reading the image\n",
        "        img=np.array(Image.open(img_path))\n",
        "        #Checking if it is a RGB Image\n",
        "        if len(np.shape(img))==3:\n",
        "            fake_img.append(img)\n",
        "#<------------------------------------------------------------------------------------------------------------------------------------------------------------------------>\n"
      ]
    },
    {
      "cell_type": "markdown",
      "metadata": {},
      "source": [
        "Use the below code to load the dataset if you are loading the data from Goohle Drive\n",
        "\n",
        "Change GDrive link with your link"
      ]
    },
    {
      "cell_type": "code",
      "execution_count": 7,
      "metadata": {
        "id": "2TTpaG7p8cu1"
      },
      "outputs": [],
      "source": [
        "#<------------------------------------------------------------------------------------------------------------------------------------------------------------------------>\n",
        "#Initializing empty lists for storing testing images\n",
        "real_img=[]\n",
        "fake_img=[]\n",
        "#path of folder to my testing data\n",
        "os.chdir(\"/content/drive/MyDrive/progan\")\n",
        "path=\"/content/drive/MyDrive/progan/1_fake\"\n",
        "l=os.listdir(path)\n",
        "l=l[:1000]\n",
        "#Iterating into each file\n",
        "for j in l:\n",
        "    #Reading the image\n",
        "    img = cv2.imread(os.path.join(path,j))\n",
        "    #Checking the image if its RGB\n",
        "    if img is not None and len(img.shape) == 3:\n",
        "        img_resized = cv2.resize(img, (224,224))\n",
        "        fake_img.append(img_resized)\n",
        "#<------------------------------------------------------------------------------------------------------------------------------------------------------------------------>\n",
        "path=\"/content/drive/MyDrive/progan/0_real\"\n",
        "l=os.listdir(path)\n",
        "l=l[:1000]\n",
        "for j in l:\n",
        "    #Reading the image\n",
        "    img = cv2.imread(os.path.join(path,j))\n",
        "    #Checking if the image is in RGB format\n",
        "    if img is not None and len(img.shape) == 3:\n",
        "        img_resized = cv2.resize(img, (224,224))\n",
        "        real_img.append(img_resized)\n",
        "#<------------------------------------------------------------------------------------------------------------------------------------------------------------------------>"
      ]
    },
    {
      "cell_type": "code",
      "execution_count": 8,
      "metadata": {
        "colab": {
          "base_uri": "https://localhost:8080/"
        },
        "id": "EruznpqrGTSn",
        "outputId": "866e7fd7-29a2-4e39-ecd8-9003247a6e6f"
      },
      "outputs": [
        {
          "name": "stdout",
          "output_type": "stream",
          "text": [
            "Real Images: (1000, 224, 224, 3)\n",
            "Fake Images (1000, 224, 224, 3)\n"
          ]
        }
      ],
      "source": [
        "print(\"Real Images:\",np.shape(real_img))\n",
        "print(\"Fake Images\",np.shape(fake_img))"
      ]
    },
    {
      "cell_type": "markdown",
      "metadata": {
        "id": "JFgNyiCu557R"
      },
      "source": [
        "# **Pre-Processing of data**\n",
        "- The following function preprocesses the data using :\n",
        "    - 1) **JPEG Compression** : It converts the format of image to .jpg with 80% \n",
        "    - 2) **Gaussian Blur** :  It applies a gaussian blur filter with kernel size=(5,5) and std dev=0 to half of the images using np.random.rand()<0.5"
      ]
    },
    {
      "cell_type": "code",
      "execution_count": 61,
      "metadata": {
        "id": "jJRT-t2N5ynY"
      },
      "outputs": [],
      "source": [
        "def preprocess(orignal):\n",
        "  #JPEG comppression\n",
        "  encode_param = [int(cv2.IMWRITE_JPEG_QUALITY), 80]\n",
        "  _, comp = cv2.imencode('.jpg',orignal, encode_param)\n",
        "  comp = cv2.imdecode(comp, 1)\n",
        "\n",
        "  #Gaussian Blur\n",
        "  if np.random.rand()<0.5:\n",
        "    kernel_size = (5, 5)\n",
        "    blurred_image = cv2.GaussianBlur(orignal, kernel_size, 0)\n",
        "    return blurred_image\n",
        "  else:\n",
        "    return comp"
      ]
    },
    {
      "cell_type": "markdown",
      "metadata": {},
      "source": [
        "Showing the effect of preprocessing to any random image"
      ]
    },
    {
      "cell_type": "code",
      "execution_count": 62,
      "metadata": {
        "id": "H-_hrGQiGh21"
      },
      "outputs": [],
      "source": [
        "#Showing the effect of preprocessing to any random image\n",
        "image_to_show=cv2.imread(\"/content/drive/MyDrive/biggan/0_real/0--n01440764_5043.png\")\n",
        "image_preprocessed=preprocess(image_to_show)"
      ]
    },
    {
      "cell_type": "code",
      "execution_count": 63,
      "metadata": {
        "colab": {
          "base_uri": "https://localhost:8080/",
          "height": 308
        },
        "id": "MyucdTliGxdU",
        "outputId": "1cff42f5-0828-40e9-e3a3-eab90c2f252a"
      },
      "outputs": [
        {
          "data": {
            "image/png": "[encoded data removed]",
            "text/plain": [
              "<Figure size 640x480 with 2 Axes>"
            ]
          },
          "metadata": {},
          "output_type": "display_data"
        }
      ],
      "source": [
        "#Plotting the orignal and preprocessed image\n",
        "import cv2\n",
        "import matplotlib.pyplot as plt\n",
        "plt.subplot(1, 2, 1)\n",
        "plt.imshow(cv2.cvtColor(image_to_show,cv2.COLOR_BGR2RGB))\n",
        "plt.title(\"Before\")\n",
        "\n",
        "plt.subplot(1, 2, 2)\n",
        "plt.imshow(cv2.cvtColor(image_preprocessed,cv2.COLOR_BGR2RGB))\n",
        "plt.title(\"After\")\n",
        "plt.show()"
      ]
    },
    {
      "cell_type": "markdown",
      "metadata": {
        "id": "1EKSKtxI5VAi"
      },
      "source": [
        "Applying preprocessing to real images"
      ]
    },
    {
      "cell_type": "code",
      "execution_count": 12,
      "metadata": {
        "colab": {
          "base_uri": "https://localhost:8080/"
        },
        "id": "vu8Hed94G1eE",
        "outputId": "0b069d8a-c2ff-4da9-d761-27d38db30362"
      },
      "outputs": [
        {
          "data": {
            "text/plain": [
              "(1000, 224, 224, 3)"
            ]
          },
          "execution_count": 12,
          "metadata": {},
          "output_type": "execute_result"
        }
      ],
      "source": [
        "real=[preprocess(i) for i in real_img]\n",
        "np.shape(real)"
      ]
    },
    {
      "cell_type": "markdown",
      "metadata": {
        "id": "pwJ5W_xq5Z_E"
      },
      "source": [
        "Applying preprocessing to fake images"
      ]
    },
    {
      "cell_type": "code",
      "execution_count": 13,
      "metadata": {
        "colab": {
          "base_uri": "https://localhost:8080/"
        },
        "id": "CUcueOoVHSlQ",
        "outputId": "5a01a285-dce1-4c82-ff15-2ac3651917d5"
      },
      "outputs": [
        {
          "data": {
            "text/plain": [
              "(1000, 224, 224, 3)"
            ]
          },
          "execution_count": 13,
          "metadata": {},
          "output_type": "execute_result"
        }
      ],
      "source": [
        "fake=[preprocess(i) for i in fake_img]\n",
        "np.shape(fake)"
      ]
    },
    {
      "cell_type": "markdown",
      "metadata": {
        "id": "ZMcJkgJL5gGc"
      },
      "source": [
        "# **Testing Data**\n",
        "- Reading data for **Testing Phase**\n",
        "- It iterate over each file and **Reads** the image using cv2.imread()\n",
        "- It checks if the image is in **RGB Format** and appends the image if it satisfies this criterion\n",
        "- Now we **Resize** the image into **(224,224,3)** dimensions"
      ]
    },
    {
      "cell_type": "code",
      "execution_count": 14,
      "metadata": {
        "id": "XQU6Ynz-HWyR"
      },
      "outputs": [],
      "source": [
        "#<------------------------------------------------------------------------------------------------------------------------------------------------------------------------>\n",
        "#Initializing empty lists for storing testing images\n",
        "r_t=[]\n",
        "f_t=[]\n",
        "#path of folder to my testing data\n",
        "os.chdir(\"/content/diffusion/diffusion_datasets\")\n",
        "path=\"/content/diffusion/diffusion_datasets/dalle/1_fake\"\n",
        "l=os.listdir(path)\n",
        "#Iterating into each file\n",
        "for j in l:\n",
        "    #Reading the image\n",
        "    img = cv2.imread(os.path.join(path,j))\n",
        "    #Checking the image if its RGB\n",
        "    if img is not None and len(img.shape) == 3:\n",
        "        img_resized = cv2.resize(img, (224,224))\n",
        "        f_t.append(img_resized)\n",
        "#<------------------------------------------------------------------------------------------------------------------------------------------------------------------------>\n",
        "path=\"/content/diffusion/diffusion_datasets/laion/0_real\"\n",
        "l=os.listdir(path)\n",
        "for j in l:\n",
        "    #Reading the image\n",
        "    img = cv2.imread(os.path.join(path,j))\n",
        "    #Checking if the image is in RGB format\n",
        "    if img is not None and len(img.shape) == 3:\n",
        "        img_resized = cv2.resize(img, (224,224))\n",
        "        r_t.append(img_resized)\n",
        "#<------------------------------------------------------------------------------------------------------------------------------------------------------------------------>"
      ]
    },
    {
      "cell_type": "code",
      "execution_count": 15,
      "metadata": {
        "colab": {
          "base_uri": "https://localhost:8080/"
        },
        "id": "6HtDztZ6KFUn",
        "outputId": "c097bf7e-d64b-42a2-ee51-e6e16069ab7f"
      },
      "outputs": [
        {
          "data": {
            "text/plain": [
              "(500, 224, 224, 3)"
            ]
          },
          "execution_count": 15,
          "metadata": {},
          "output_type": "execute_result"
        }
      ],
      "source": [
        "#Slicing and taking first 500 images from each real and fake set of images\n",
        "r_tt=r_t[:500]\n",
        "f_tt=f_t[:500]\n",
        "np.shape(f_tt)"
      ]
    },
    {
      "cell_type": "code",
      "execution_count": 16,
      "metadata": {
        "colab": {
          "base_uri": "https://localhost:8080/"
        },
        "id": "8kSayAbKLP_U",
        "outputId": "af5a4cae-d334-4dc5-abde-17732a113c91"
      },
      "outputs": [
        {
          "name": "stdout",
          "output_type": "stream",
          "text": [
            "Testing images:\n",
            " (1000, 224, 224, 3)\n",
            "(1000,)\n"
          ]
        }
      ],
      "source": [
        "#<------------------------------------------------------------------------------------------------------------------------------------------------------------------------>\n",
        "test_images=np.concatenate([r_tt,f_tt])\n",
        "\n",
        "test_labels=[0]*500\n",
        "test_labels.extend([1]*500)\n",
        "\n",
        "print(\"Testing images:\\n\",np.shape(test_images))\n",
        "print(np.shape(test_labels))\n",
        "#<------------------------------------------------------------------------------------------------------------------------------------------------------------------------>"
      ]
    },
    {
      "cell_type": "markdown",
      "metadata": {
        "id": "lt8d15037lhO"
      },
      "source": [
        "Applying preprocessing to the testing images"
      ]
    },
    {
      "cell_type": "code",
      "execution_count": 17,
      "metadata": {
        "colab": {
          "base_uri": "https://localhost:8080/"
        },
        "id": "lxuGWkH9ORY2",
        "outputId": "03a28963-db97-4fac-8445-0557adcb9483"
      },
      "outputs": [
        {
          "name": "stdout",
          "output_type": "stream",
          "text": [
            "(1000, 224, 224, 3)\n",
            "(1000,)\n"
          ]
        }
      ],
      "source": [
        "test=[preprocess(i) for i in test_images]\n",
        "print(np.shape(test))\n",
        "print(np.shape(test_labels))"
      ]
    },
    {
      "cell_type": "markdown",
      "metadata": {
        "id": "wjJY4Gxl7un4"
      },
      "source": [
        "# **Importing CLIP Model from OpenAI Github Repository**\n",
        "\n",
        "Repo Link:https://github.com/openai/CLIP.git"
      ]
    },
    {
      "cell_type": "code",
      "execution_count": 18,
      "metadata": {
        "colab": {
          "base_uri": "https://localhost:8080/"
        },
        "id": "P0BD8u-GObTd",
        "outputId": "7e04e8c9-5bab-4223-aa80-3188924202ac"
      },
      "outputs": [
        {
          "name": "stdout",
          "output_type": "stream",
          "text": [
            "Collecting ftfy\n",
            "  Downloading ftfy-6.1.3-py3-none-any.whl (53 kB)\n",
            "\u001b[?25l     \u001b[90m━━━━━━━━━━━━━━━━━━━━━━━━━━━━━━━━━━━━━━━━\u001b[0m \u001b[32m0.0/53.4 kB\u001b[0m \u001b[31m?\u001b[0m eta \u001b[36m-:--:--\u001b[0m\r\u001b[2K     \u001b[90m━━━━━━━━━━━━━━━━━━━━━━━━━━━━━━━━━━━━━━━━\u001b[0m \u001b[32m53.4/53.4 kB\u001b[0m \u001b[31m2.4 MB/s\u001b[0m eta \u001b[36m0:00:00\u001b[0m\n",
            "\u001b[?25hRequirement already satisfied: regex in /usr/local/lib/python3.10/dist-packages (2023.12.25)\n",
            "Requirement already satisfied: tqdm in /usr/local/lib/python3.10/dist-packages (4.66.1)\n",
            "Requirement already satisfied: wcwidth<0.3.0,>=0.2.12 in /usr/local/lib/python3.10/dist-packages (from ftfy) (0.2.13)\n",
            "Installing collected packages: ftfy\n",
            "Successfully installed ftfy-6.1.3\n",
            "Collecting git+https://github.com/openai/CLIP.git\n",
            "  Cloning https://github.com/openai/CLIP.git to /tmp/pip-req-build-lm7t36xf\n",
            "  Running command git clone --filter=blob:none --quiet https://github.com/openai/CLIP.git /tmp/pip-req-build-lm7t36xf\n",
            "  Resolved https://github.com/openai/CLIP.git to commit a1d071733d7111c9c014f024669f959182114e33\n",
            "  Preparing metadata (setup.py) ... \u001b[?25l\u001b[?25hdone\n",
            "Requirement already satisfied: ftfy in /usr/local/lib/python3.10/dist-packages (from clip==1.0) (6.1.3)\n",
            "Requirement already satisfied: regex in /usr/local/lib/python3.10/dist-packages (from clip==1.0) (2023.12.25)\n",
            "Requirement already satisfied: tqdm in /usr/local/lib/python3.10/dist-packages (from clip==1.0) (4.66.1)\n",
            "Requirement already satisfied: torch in /usr/local/lib/python3.10/dist-packages (from clip==1.0) (2.1.0+cu121)\n",
            "Requirement already satisfied: torchvision in /usr/local/lib/python3.10/dist-packages (from clip==1.0) (0.16.0+cu121)\n",
            "Requirement already satisfied: wcwidth<0.3.0,>=0.2.12 in /usr/local/lib/python3.10/dist-packages (from ftfy->clip==1.0) (0.2.13)\n",
            "Requirement already satisfied: filelock in /usr/local/lib/python3.10/dist-packages (from torch->clip==1.0) (3.13.1)\n",
            "Requirement already satisfied: typing-extensions in /usr/local/lib/python3.10/dist-packages (from torch->clip==1.0) (4.9.0)\n",
            "Requirement already satisfied: sympy in /usr/local/lib/python3.10/dist-packages (from torch->clip==1.0) (1.12)\n",
            "Requirement already satisfied: networkx in /usr/local/lib/python3.10/dist-packages (from torch->clip==1.0) (3.2.1)\n",
            "Requirement already satisfied: jinja2 in /usr/local/lib/python3.10/dist-packages (from torch->clip==1.0) (3.1.3)\n",
            "Requirement already satisfied: fsspec in /usr/local/lib/python3.10/dist-packages (from torch->clip==1.0) (2023.6.0)\n",
            "Requirement already satisfied: triton==2.1.0 in /usr/local/lib/python3.10/dist-packages (from torch->clip==1.0) (2.1.0)\n",
            "Requirement already satisfied: numpy in /usr/local/lib/python3.10/dist-packages (from torchvision->clip==1.0) (1.23.5)\n",
            "Requirement already satisfied: requests in /usr/local/lib/python3.10/dist-packages (from torchvision->clip==1.0) (2.31.0)\n",
            "Requirement already satisfied: pillow!=8.3.*,>=5.3.0 in /usr/local/lib/python3.10/dist-packages (from torchvision->clip==1.0) (9.4.0)\n",
            "Requirement already satisfied: MarkupSafe>=2.0 in /usr/local/lib/python3.10/dist-packages (from jinja2->torch->clip==1.0) (2.1.5)\n",
            "Requirement already satisfied: charset-normalizer<4,>=2 in /usr/local/lib/python3.10/dist-packages (from requests->torchvision->clip==1.0) (3.3.2)\n",
            "Requirement already satisfied: idna<4,>=2.5 in /usr/local/lib/python3.10/dist-packages (from requests->torchvision->clip==1.0) (3.6)\n",
            "Requirement already satisfied: urllib3<3,>=1.21.1 in /usr/local/lib/python3.10/dist-packages (from requests->torchvision->clip==1.0) (2.0.7)\n",
            "Requirement already satisfied: certifi>=2017.4.17 in /usr/local/lib/python3.10/dist-packages (from requests->torchvision->clip==1.0) (2024.2.2)\n",
            "Requirement already satisfied: mpmath>=0.19 in /usr/local/lib/python3.10/dist-packages (from sympy->torch->clip==1.0) (1.3.0)\n",
            "Building wheels for collected packages: clip\n",
            "  Building wheel for clip (setup.py) ... \u001b[?25l\u001b[?25hdone\n",
            "  Created wheel for clip: filename=clip-1.0-py3-none-any.whl size=1369497 sha256=c18fccbffbdefaf1a9e21563aa2cb751363256f0a517cb4b3ed2008dc6a060d3\n",
            "  Stored in directory: /tmp/pip-ephem-wheel-cache-e197i8mp/wheels/da/2b/4c/d6691fa9597aac8bb85d2ac13b112deb897d5b50f5ad9a37e4\n",
            "Successfully built clip\n",
            "Installing collected packages: clip\n",
            "Successfully installed clip-1.0\n"
          ]
        }
      ],
      "source": [
        "! pip install ftfy regex tqdm\n",
        "! pip install git+https://github.com/openai/CLIP.git"
      ]
    },
    {
      "cell_type": "markdown",
      "metadata": {
        "id": "7CemOgVG8GmJ"
      },
      "source": [
        "Taking CLIP model from Transformers\n",
        "(tried using this method to import clip model , but it was not working)"
      ]
    },
    {
      "cell_type": "code",
      "execution_count": null,
      "metadata": {
        "id": "in2hd4_J8ICF"
      },
      "outputs": [],
      "source": [
        "# from transformers import CLIPProcessor, CLIPModel\n",
        "# import torch\n",
        "\n",
        "# processor = CLIPProcessor.from_pretrained(\"openai/clip-vit-base-patch16\")\n",
        "# model = CLIPModel.from_pretrained(\"openai/clip-vit-base-patch16\")"
      ]
    },
    {
      "cell_type": "markdown",
      "metadata": {
        "id": "ZZO_O8Ce7-dh"
      },
      "source": [
        "# **Importing the libraries**"
      ]
    },
    {
      "cell_type": "code",
      "execution_count": 19,
      "metadata": {
        "id": "xwaLwBYkOfS-"
      },
      "outputs": [],
      "source": [
        "import torch\n",
        "from pkg_resources import packaging\n",
        "import torch.nn as nn\n",
        "import torchvision.transforms as transforms\n",
        "from torchvision import datasets, transforms\n",
        "from torch.utils.data import DataLoader\n",
        "from sklearn.metrics import accuracy_score\n",
        "from sklearn.neighbors import NearestNeighbors\n",
        "from sklearn.model_selection import train_test_split"
      ]
    },
    {
      "cell_type": "markdown",
      "metadata": {
        "id": "-2DVu7TV8NW0"
      },
      "source": [
        "**Finding \"ViT-L/14\" model from CLIP**"
      ]
    },
    {
      "cell_type": "code",
      "execution_count": 20,
      "metadata": {
        "colab": {
          "base_uri": "https://localhost:8080/"
        },
        "id": "m5Q5kkjzOjo2",
        "outputId": "9af2f012-801d-4ae0-96fe-d35074468140"
      },
      "outputs": [
        {
          "name": "stdout",
          "output_type": "stream",
          "text": [
            "Searching...\n",
            "Searching...\n",
            "Searching...\n",
            "Searching...\n",
            "Searching...\n",
            "Searching...\n",
            "Searching...\n",
            "Model Found\n"
          ]
        }
      ],
      "source": [
        "#<------------------------------------------------------------------------------------------------------------------------------------------------------------------------>\n",
        "import clip\n",
        "for i in clip.available_models():\n",
        "  if i==\"ViT-L/14\":\n",
        "      print(\"Model Found\")\n",
        "      break\n",
        "  else:\n",
        "    print(\"Searching...\")\n",
        "#<------------------------------------------------------------------------------------------------------------------------------------------------------------------------>"
      ]
    },
    {
      "cell_type": "markdown",
      "metadata": {
        "id": "2NpFRKAC8ZF8"
      },
      "source": [
        "Loading the model imported above with all its parameters"
      ]
    },
    {
      "cell_type": "code",
      "execution_count": 21,
      "metadata": {
        "colab": {
          "base_uri": "https://localhost:8080/"
        },
        "id": "LLlU0dKwOl5X",
        "outputId": "111a32e4-aa00-44cf-faf6-d0f15420688f"
      },
      "outputs": [
        {
          "name": "stderr",
          "output_type": "stream",
          "text": [
            "100%|███████████████████████████████████████| 890M/890M [00:10<00:00, 89.4MiB/s]\n"
          ]
        },
        {
          "data": {
            "text/plain": [
              "CLIP(\n",
              "  (visual): VisionTransformer(\n",
              "    (conv1): Conv2d(3, 1024, kernel_size=(14, 14), stride=(14, 14), bias=False)\n",
              "    (ln_pre): LayerNorm((1024,), eps=1e-05, elementwise_affine=True)\n",
              "    (transformer): Transformer(\n",
              "      (resblocks): Sequential(\n",
              "        (0): ResidualAttentionBlock(\n",
              "          (attn): MultiheadAttention(\n",
              "            (out_proj): NonDynamicallyQuantizableLinear(in_features=1024, out_features=1024, bias=True)\n",
              "          )\n",
              "          (ln_1): LayerNorm((1024,), eps=1e-05, elementwise_affine=True)\n",
              "          (mlp): Sequential(\n",
              "            (c_fc): Linear(in_features=1024, out_features=4096, bias=True)\n",
              "            (gelu): QuickGELU()\n",
              "            (c_proj): Linear(in_features=4096, out_features=1024, bias=True)\n",
              "          )\n",
              "          (ln_2): LayerNorm((1024,), eps=1e-05, elementwise_affine=True)\n",
              "        )\n",
              "        (1): ResidualAttentionBlock(\n",
              "          (attn): MultiheadAttention(\n",
              "            (out_proj): NonDynamicallyQuantizableLinear(in_features=1024, out_features=1024, bias=True)\n",
              "          )\n",
              "          (ln_1): LayerNorm((1024,), eps=1e-05, elementwise_affine=True)\n",
              "          (mlp): Sequential(\n",
              "            (c_fc): Linear(in_features=1024, out_features=4096, bias=True)\n",
              "            (gelu): QuickGELU()\n",
              "            (c_proj): Linear(in_features=4096, out_features=1024, bias=True)\n",
              "          )\n",
              "          (ln_2): LayerNorm((1024,), eps=1e-05, elementwise_affine=True)\n",
              "        )\n",
              "        (2): ResidualAttentionBlock(\n",
              "          (attn): MultiheadAttention(\n",
              "            (out_proj): NonDynamicallyQuantizableLinear(in_features=1024, out_features=1024, bias=True)\n",
              "          )\n",
              "          (ln_1): LayerNorm((1024,), eps=1e-05, elementwise_affine=True)\n",
              "          (mlp): Sequential(\n",
              "            (c_fc): Linear(in_features=1024, out_features=4096, bias=True)\n",
              "            (gelu): QuickGELU()\n",
              "            (c_proj): Linear(in_features=4096, out_features=1024, bias=True)\n",
              "          )\n",
              "          (ln_2): LayerNorm((1024,), eps=1e-05, elementwise_affine=True)\n",
              "        )\n",
              "        (3): ResidualAttentionBlock(\n",
              "          (attn): MultiheadAttention(\n",
              "            (out_proj): NonDynamicallyQuantizableLinear(in_features=1024, out_features=1024, bias=True)\n",
              "          )\n",
              "          (ln_1): LayerNorm((1024,), eps=1e-05, elementwise_affine=True)\n",
              "          (mlp): Sequential(\n",
              "            (c_fc): Linear(in_features=1024, out_features=4096, bias=True)\n",
              "            (gelu): QuickGELU()\n",
              "            (c_proj): Linear(in_features=4096, out_features=1024, bias=True)\n",
              "          )\n",
              "          (ln_2): LayerNorm((1024,), eps=1e-05, elementwise_affine=True)\n",
              "        )\n",
              "        (4): ResidualAttentionBlock(\n",
              "          (attn): MultiheadAttention(\n",
              "            (out_proj): NonDynamicallyQuantizableLinear(in_features=1024, out_features=1024, bias=True)\n",
              "          )\n",
              "          (ln_1): LayerNorm((1024,), eps=1e-05, elementwise_affine=True)\n",
              "          (mlp): Sequential(\n",
              "            (c_fc): Linear(in_features=1024, out_features=4096, bias=True)\n",
              "            (gelu): QuickGELU()\n",
              "            (c_proj): Linear(in_features=4096, out_features=1024, bias=True)\n",
              "          )\n",
              "          (ln_2): LayerNorm((1024,), eps=1e-05, elementwise_affine=True)\n",
              "        )\n",
              "        (5): ResidualAttentionBlock(\n",
              "          (attn): MultiheadAttention(\n",
              "            (out_proj): NonDynamicallyQuantizableLinear(in_features=1024, out_features=1024, bias=True)\n",
              "          )\n",
              "          (ln_1): LayerNorm((1024,), eps=1e-05, elementwise_affine=True)\n",
              "          (mlp): Sequential(\n",
              "            (c_fc): Linear(in_features=1024, out_features=4096, bias=True)\n",
              "            (gelu): QuickGELU()\n",
              "            (c_proj): Linear(in_features=4096, out_features=1024, bias=True)\n",
              "          )\n",
              "          (ln_2): LayerNorm((1024,), eps=1e-05, elementwise_affine=True)\n",
              "        )\n",
              "        (6): ResidualAttentionBlock(\n",
              "          (attn): MultiheadAttention(\n",
              "            (out_proj): NonDynamicallyQuantizableLinear(in_features=1024, out_features=1024, bias=True)\n",
              "          )\n",
              "          (ln_1): LayerNorm((1024,), eps=1e-05, elementwise_affine=True)\n",
              "          (mlp): Sequential(\n",
              "            (c_fc): Linear(in_features=1024, out_features=4096, bias=True)\n",
              "            (gelu): QuickGELU()\n",
              "            (c_proj): Linear(in_features=4096, out_features=1024, bias=True)\n",
              "          )\n",
              "          (ln_2): LayerNorm((1024,), eps=1e-05, elementwise_affine=True)\n",
              "        )\n",
              "        (7): ResidualAttentionBlock(\n",
              "          (attn): MultiheadAttention(\n",
              "            (out_proj): NonDynamicallyQuantizableLinear(in_features=1024, out_features=1024, bias=True)\n",
              "          )\n",
              "          (ln_1): LayerNorm((1024,), eps=1e-05, elementwise_affine=True)\n",
              "          (mlp): Sequential(\n",
              "            (c_fc): Linear(in_features=1024, out_features=4096, bias=True)\n",
              "            (gelu): QuickGELU()\n",
              "            (c_proj): Linear(in_features=4096, out_features=1024, bias=True)\n",
              "          )\n",
              "          (ln_2): LayerNorm((1024,), eps=1e-05, elementwise_affine=True)\n",
              "        )\n",
              "        (8): ResidualAttentionBlock(\n",
              "          (attn): MultiheadAttention(\n",
              "            (out_proj): NonDynamicallyQuantizableLinear(in_features=1024, out_features=1024, bias=True)\n",
              "          )\n",
              "          (ln_1): LayerNorm((1024,), eps=1e-05, elementwise_affine=True)\n",
              "          (mlp): Sequential(\n",
              "            (c_fc): Linear(in_features=1024, out_features=4096, bias=True)\n",
              "            (gelu): QuickGELU()\n",
              "            (c_proj): Linear(in_features=4096, out_features=1024, bias=True)\n",
              "          )\n",
              "          (ln_2): LayerNorm((1024,), eps=1e-05, elementwise_affine=True)\n",
              "        )\n",
              "        (9): ResidualAttentionBlock(\n",
              "          (attn): MultiheadAttention(\n",
              "            (out_proj): NonDynamicallyQuantizableLinear(in_features=1024, out_features=1024, bias=True)\n",
              "          )\n",
              "          (ln_1): LayerNorm((1024,), eps=1e-05, elementwise_affine=True)\n",
              "          (mlp): Sequential(\n",
              "            (c_fc): Linear(in_features=1024, out_features=4096, bias=True)\n",
              "            (gelu): QuickGELU()\n",
              "            (c_proj): Linear(in_features=4096, out_features=1024, bias=True)\n",
              "          )\n",
              "          (ln_2): LayerNorm((1024,), eps=1e-05, elementwise_affine=True)\n",
              "        )\n",
              "        (10): ResidualAttentionBlock(\n",
              "          (attn): MultiheadAttention(\n",
              "            (out_proj): NonDynamicallyQuantizableLinear(in_features=1024, out_features=1024, bias=True)\n",
              "          )\n",
              "          (ln_1): LayerNorm((1024,), eps=1e-05, elementwise_affine=True)\n",
              "          (mlp): Sequential(\n",
              "            (c_fc): Linear(in_features=1024, out_features=4096, bias=True)\n",
              "            (gelu): QuickGELU()\n",
              "            (c_proj): Linear(in_features=4096, out_features=1024, bias=True)\n",
              "          )\n",
              "          (ln_2): LayerNorm((1024,), eps=1e-05, elementwise_affine=True)\n",
              "        )\n",
              "        (11): ResidualAttentionBlock(\n",
              "          (attn): MultiheadAttention(\n",
              "            (out_proj): NonDynamicallyQuantizableLinear(in_features=1024, out_features=1024, bias=True)\n",
              "          )\n",
              "          (ln_1): LayerNorm((1024,), eps=1e-05, elementwise_affine=True)\n",
              "          (mlp): Sequential(\n",
              "            (c_fc): Linear(in_features=1024, out_features=4096, bias=True)\n",
              "            (gelu): QuickGELU()\n",
              "            (c_proj): Linear(in_features=4096, out_features=1024, bias=True)\n",
              "          )\n",
              "          (ln_2): LayerNorm((1024,), eps=1e-05, elementwise_affine=True)\n",
              "        )\n",
              "        (12): ResidualAttentionBlock(\n",
              "          (attn): MultiheadAttention(\n",
              "            (out_proj): NonDynamicallyQuantizableLinear(in_features=1024, out_features=1024, bias=True)\n",
              "          )\n",
              "          (ln_1): LayerNorm((1024,), eps=1e-05, elementwise_affine=True)\n",
              "          (mlp): Sequential(\n",
              "            (c_fc): Linear(in_features=1024, out_features=4096, bias=True)\n",
              "            (gelu): QuickGELU()\n",
              "            (c_proj): Linear(in_features=4096, out_features=1024, bias=True)\n",
              "          )\n",
              "          (ln_2): LayerNorm((1024,), eps=1e-05, elementwise_affine=True)\n",
              "        )\n",
              "        (13): ResidualAttentionBlock(\n",
              "          (attn): MultiheadAttention(\n",
              "            (out_proj): NonDynamicallyQuantizableLinear(in_features=1024, out_features=1024, bias=True)\n",
              "          )\n",
              "          (ln_1): LayerNorm((1024,), eps=1e-05, elementwise_affine=True)\n",
              "          (mlp): Sequential(\n",
              "            (c_fc): Linear(in_features=1024, out_features=4096, bias=True)\n",
              "            (gelu): QuickGELU()\n",
              "            (c_proj): Linear(in_features=4096, out_features=1024, bias=True)\n",
              "          )\n",
              "          (ln_2): LayerNorm((1024,), eps=1e-05, elementwise_affine=True)\n",
              "        )\n",
              "        (14): ResidualAttentionBlock(\n",
              "          (attn): MultiheadAttention(\n",
              "            (out_proj): NonDynamicallyQuantizableLinear(in_features=1024, out_features=1024, bias=True)\n",
              "          )\n",
              "          (ln_1): LayerNorm((1024,), eps=1e-05, elementwise_affine=True)\n",
              "          (mlp): Sequential(\n",
              "            (c_fc): Linear(in_features=1024, out_features=4096, bias=True)\n",
              "            (gelu): QuickGELU()\n",
              "            (c_proj): Linear(in_features=4096, out_features=1024, bias=True)\n",
              "          )\n",
              "          (ln_2): LayerNorm((1024,), eps=1e-05, elementwise_affine=True)\n",
              "        )\n",
              "        (15): ResidualAttentionBlock(\n",
              "          (attn): MultiheadAttention(\n",
              "            (out_proj): NonDynamicallyQuantizableLinear(in_features=1024, out_features=1024, bias=True)\n",
              "          )\n",
              "          (ln_1): LayerNorm((1024,), eps=1e-05, elementwise_affine=True)\n",
              "          (mlp): Sequential(\n",
              "            (c_fc): Linear(in_features=1024, out_features=4096, bias=True)\n",
              "            (gelu): QuickGELU()\n",
              "            (c_proj): Linear(in_features=4096, out_features=1024, bias=True)\n",
              "          )\n",
              "          (ln_2): LayerNorm((1024,), eps=1e-05, elementwise_affine=True)\n",
              "        )\n",
              "        (16): ResidualAttentionBlock(\n",
              "          (attn): MultiheadAttention(\n",
              "            (out_proj): NonDynamicallyQuantizableLinear(in_features=1024, out_features=1024, bias=True)\n",
              "          )\n",
              "          (ln_1): LayerNorm((1024,), eps=1e-05, elementwise_affine=True)\n",
              "          (mlp): Sequential(\n",
              "            (c_fc): Linear(in_features=1024, out_features=4096, bias=True)\n",
              "            (gelu): QuickGELU()\n",
              "            (c_proj): Linear(in_features=4096, out_features=1024, bias=True)\n",
              "          )\n",
              "          (ln_2): LayerNorm((1024,), eps=1e-05, elementwise_affine=True)\n",
              "        )\n",
              "        (17): ResidualAttentionBlock(\n",
              "          (attn): MultiheadAttention(\n",
              "            (out_proj): NonDynamicallyQuantizableLinear(in_features=1024, out_features=1024, bias=True)\n",
              "          )\n",
              "          (ln_1): LayerNorm((1024,), eps=1e-05, elementwise_affine=True)\n",
              "          (mlp): Sequential(\n",
              "            (c_fc): Linear(in_features=1024, out_features=4096, bias=True)\n",
              "            (gelu): QuickGELU()\n",
              "            (c_proj): Linear(in_features=4096, out_features=1024, bias=True)\n",
              "          )\n",
              "          (ln_2): LayerNorm((1024,), eps=1e-05, elementwise_affine=True)\n",
              "        )\n",
              "        (18): ResidualAttentionBlock(\n",
              "          (attn): MultiheadAttention(\n",
              "            (out_proj): NonDynamicallyQuantizableLinear(in_features=1024, out_features=1024, bias=True)\n",
              "          )\n",
              "          (ln_1): LayerNorm((1024,), eps=1e-05, elementwise_affine=True)\n",
              "          (mlp): Sequential(\n",
              "            (c_fc): Linear(in_features=1024, out_features=4096, bias=True)\n",
              "            (gelu): QuickGELU()\n",
              "            (c_proj): Linear(in_features=4096, out_features=1024, bias=True)\n",
              "          )\n",
              "          (ln_2): LayerNorm((1024,), eps=1e-05, elementwise_affine=True)\n",
              "        )\n",
              "        (19): ResidualAttentionBlock(\n",
              "          (attn): MultiheadAttention(\n",
              "            (out_proj): NonDynamicallyQuantizableLinear(in_features=1024, out_features=1024, bias=True)\n",
              "          )\n",
              "          (ln_1): LayerNorm((1024,), eps=1e-05, elementwise_affine=True)\n",
              "          (mlp): Sequential(\n",
              "            (c_fc): Linear(in_features=1024, out_features=4096, bias=True)\n",
              "            (gelu): QuickGELU()\n",
              "            (c_proj): Linear(in_features=4096, out_features=1024, bias=True)\n",
              "          )\n",
              "          (ln_2): LayerNorm((1024,), eps=1e-05, elementwise_affine=True)\n",
              "        )\n",
              "        (20): ResidualAttentionBlock(\n",
              "          (attn): MultiheadAttention(\n",
              "            (out_proj): NonDynamicallyQuantizableLinear(in_features=1024, out_features=1024, bias=True)\n",
              "          )\n",
              "          (ln_1): LayerNorm((1024,), eps=1e-05, elementwise_affine=True)\n",
              "          (mlp): Sequential(\n",
              "            (c_fc): Linear(in_features=1024, out_features=4096, bias=True)\n",
              "            (gelu): QuickGELU()\n",
              "            (c_proj): Linear(in_features=4096, out_features=1024, bias=True)\n",
              "          )\n",
              "          (ln_2): LayerNorm((1024,), eps=1e-05, elementwise_affine=True)\n",
              "        )\n",
              "        (21): ResidualAttentionBlock(\n",
              "          (attn): MultiheadAttention(\n",
              "            (out_proj): NonDynamicallyQuantizableLinear(in_features=1024, out_features=1024, bias=True)\n",
              "          )\n",
              "          (ln_1): LayerNorm((1024,), eps=1e-05, elementwise_affine=True)\n",
              "          (mlp): Sequential(\n",
              "            (c_fc): Linear(in_features=1024, out_features=4096, bias=True)\n",
              "            (gelu): QuickGELU()\n",
              "            (c_proj): Linear(in_features=4096, out_features=1024, bias=True)\n",
              "          )\n",
              "          (ln_2): LayerNorm((1024,), eps=1e-05, elementwise_affine=True)\n",
              "        )\n",
              "        (22): ResidualAttentionBlock(\n",
              "          (attn): MultiheadAttention(\n",
              "            (out_proj): NonDynamicallyQuantizableLinear(in_features=1024, out_features=1024, bias=True)\n",
              "          )\n",
              "          (ln_1): LayerNorm((1024,), eps=1e-05, elementwise_affine=True)\n",
              "          (mlp): Sequential(\n",
              "            (c_fc): Linear(in_features=1024, out_features=4096, bias=True)\n",
              "            (gelu): QuickGELU()\n",
              "            (c_proj): Linear(in_features=4096, out_features=1024, bias=True)\n",
              "          )\n",
              "          (ln_2): LayerNorm((1024,), eps=1e-05, elementwise_affine=True)\n",
              "        )\n",
              "        (23): ResidualAttentionBlock(\n",
              "          (attn): MultiheadAttention(\n",
              "            (out_proj): NonDynamicallyQuantizableLinear(in_features=1024, out_features=1024, bias=True)\n",
              "          )\n",
              "          (ln_1): LayerNorm((1024,), eps=1e-05, elementwise_affine=True)\n",
              "          (mlp): Sequential(\n",
              "            (c_fc): Linear(in_features=1024, out_features=4096, bias=True)\n",
              "            (gelu): QuickGELU()\n",
              "            (c_proj): Linear(in_features=4096, out_features=1024, bias=True)\n",
              "          )\n",
              "          (ln_2): LayerNorm((1024,), eps=1e-05, elementwise_affine=True)\n",
              "        )\n",
              "      )\n",
              "    )\n",
              "    (ln_post): LayerNorm((1024,), eps=1e-05, elementwise_affine=True)\n",
              "  )\n",
              "  (transformer): Transformer(\n",
              "    (resblocks): Sequential(\n",
              "      (0): ResidualAttentionBlock(\n",
              "        (attn): MultiheadAttention(\n",
              "          (out_proj): NonDynamicallyQuantizableLinear(in_features=768, out_features=768, bias=True)\n",
              "        )\n",
              "        (ln_1): LayerNorm((768,), eps=1e-05, elementwise_affine=True)\n",
              "        (mlp): Sequential(\n",
              "          (c_fc): Linear(in_features=768, out_features=3072, bias=True)\n",
              "          (gelu): QuickGELU()\n",
              "          (c_proj): Linear(in_features=3072, out_features=768, bias=True)\n",
              "        )\n",
              "        (ln_2): LayerNorm((768,), eps=1e-05, elementwise_affine=True)\n",
              "      )\n",
              "      (1): ResidualAttentionBlock(\n",
              "        (attn): MultiheadAttention(\n",
              "          (out_proj): NonDynamicallyQuantizableLinear(in_features=768, out_features=768, bias=True)\n",
              "        )\n",
              "        (ln_1): LayerNorm((768,), eps=1e-05, elementwise_affine=True)\n",
              "        (mlp): Sequential(\n",
              "          (c_fc): Linear(in_features=768, out_features=3072, bias=True)\n",
              "          (gelu): QuickGELU()\n",
              "          (c_proj): Linear(in_features=3072, out_features=768, bias=True)\n",
              "        )\n",
              "        (ln_2): LayerNorm((768,), eps=1e-05, elementwise_affine=True)\n",
              "      )\n",
              "      (2): ResidualAttentionBlock(\n",
              "        (attn): MultiheadAttention(\n",
              "          (out_proj): NonDynamicallyQuantizableLinear(in_features=768, out_features=768, bias=True)\n",
              "        )\n",
              "        (ln_1): LayerNorm((768,), eps=1e-05, elementwise_affine=True)\n",
              "        (mlp): Sequential(\n",
              "          (c_fc): Linear(in_features=768, out_features=3072, bias=True)\n",
              "          (gelu): QuickGELU()\n",
              "          (c_proj): Linear(in_features=3072, out_features=768, bias=True)\n",
              "        )\n",
              "        (ln_2): LayerNorm((768,), eps=1e-05, elementwise_affine=True)\n",
              "      )\n",
              "      (3): ResidualAttentionBlock(\n",
              "        (attn): MultiheadAttention(\n",
              "          (out_proj): NonDynamicallyQuantizableLinear(in_features=768, out_features=768, bias=True)\n",
              "        )\n",
              "        (ln_1): LayerNorm((768,), eps=1e-05, elementwise_affine=True)\n",
              "        (mlp): Sequential(\n",
              "          (c_fc): Linear(in_features=768, out_features=3072, bias=True)\n",
              "          (gelu): QuickGELU()\n",
              "          (c_proj): Linear(in_features=3072, out_features=768, bias=True)\n",
              "        )\n",
              "        (ln_2): LayerNorm((768,), eps=1e-05, elementwise_affine=True)\n",
              "      )\n",
              "      (4): ResidualAttentionBlock(\n",
              "        (attn): MultiheadAttention(\n",
              "          (out_proj): NonDynamicallyQuantizableLinear(in_features=768, out_features=768, bias=True)\n",
              "        )\n",
              "        (ln_1): LayerNorm((768,), eps=1e-05, elementwise_affine=True)\n",
              "        (mlp): Sequential(\n",
              "          (c_fc): Linear(in_features=768, out_features=3072, bias=True)\n",
              "          (gelu): QuickGELU()\n",
              "          (c_proj): Linear(in_features=3072, out_features=768, bias=True)\n",
              "        )\n",
              "        (ln_2): LayerNorm((768,), eps=1e-05, elementwise_affine=True)\n",
              "      )\n",
              "      (5): ResidualAttentionBlock(\n",
              "        (attn): MultiheadAttention(\n",
              "          (out_proj): NonDynamicallyQuantizableLinear(in_features=768, out_features=768, bias=True)\n",
              "        )\n",
              "        (ln_1): LayerNorm((768,), eps=1e-05, elementwise_affine=True)\n",
              "        (mlp): Sequential(\n",
              "          (c_fc): Linear(in_features=768, out_features=3072, bias=True)\n",
              "          (gelu): QuickGELU()\n",
              "          (c_proj): Linear(in_features=3072, out_features=768, bias=True)\n",
              "        )\n",
              "        (ln_2): LayerNorm((768,), eps=1e-05, elementwise_affine=True)\n",
              "      )\n",
              "      (6): ResidualAttentionBlock(\n",
              "        (attn): MultiheadAttention(\n",
              "          (out_proj): NonDynamicallyQuantizableLinear(in_features=768, out_features=768, bias=True)\n",
              "        )\n",
              "        (ln_1): LayerNorm((768,), eps=1e-05, elementwise_affine=True)\n",
              "        (mlp): Sequential(\n",
              "          (c_fc): Linear(in_features=768, out_features=3072, bias=True)\n",
              "          (gelu): QuickGELU()\n",
              "          (c_proj): Linear(in_features=3072, out_features=768, bias=True)\n",
              "        )\n",
              "        (ln_2): LayerNorm((768,), eps=1e-05, elementwise_affine=True)\n",
              "      )\n",
              "      (7): ResidualAttentionBlock(\n",
              "        (attn): MultiheadAttention(\n",
              "          (out_proj): NonDynamicallyQuantizableLinear(in_features=768, out_features=768, bias=True)\n",
              "        )\n",
              "        (ln_1): LayerNorm((768,), eps=1e-05, elementwise_affine=True)\n",
              "        (mlp): Sequential(\n",
              "          (c_fc): Linear(in_features=768, out_features=3072, bias=True)\n",
              "          (gelu): QuickGELU()\n",
              "          (c_proj): Linear(in_features=3072, out_features=768, bias=True)\n",
              "        )\n",
              "        (ln_2): LayerNorm((768,), eps=1e-05, elementwise_affine=True)\n",
              "      )\n",
              "      (8): ResidualAttentionBlock(\n",
              "        (attn): MultiheadAttention(\n",
              "          (out_proj): NonDynamicallyQuantizableLinear(in_features=768, out_features=768, bias=True)\n",
              "        )\n",
              "        (ln_1): LayerNorm((768,), eps=1e-05, elementwise_affine=True)\n",
              "        (mlp): Sequential(\n",
              "          (c_fc): Linear(in_features=768, out_features=3072, bias=True)\n",
              "          (gelu): QuickGELU()\n",
              "          (c_proj): Linear(in_features=3072, out_features=768, bias=True)\n",
              "        )\n",
              "        (ln_2): LayerNorm((768,), eps=1e-05, elementwise_affine=True)\n",
              "      )\n",
              "      (9): ResidualAttentionBlock(\n",
              "        (attn): MultiheadAttention(\n",
              "          (out_proj): NonDynamicallyQuantizableLinear(in_features=768, out_features=768, bias=True)\n",
              "        )\n",
              "        (ln_1): LayerNorm((768,), eps=1e-05, elementwise_affine=True)\n",
              "        (mlp): Sequential(\n",
              "          (c_fc): Linear(in_features=768, out_features=3072, bias=True)\n",
              "          (gelu): QuickGELU()\n",
              "          (c_proj): Linear(in_features=3072, out_features=768, bias=True)\n",
              "        )\n",
              "        (ln_2): LayerNorm((768,), eps=1e-05, elementwise_affine=True)\n",
              "      )\n",
              "      (10): ResidualAttentionBlock(\n",
              "        (attn): MultiheadAttention(\n",
              "          (out_proj): NonDynamicallyQuantizableLinear(in_features=768, out_features=768, bias=True)\n",
              "        )\n",
              "        (ln_1): LayerNorm((768,), eps=1e-05, elementwise_affine=True)\n",
              "        (mlp): Sequential(\n",
              "          (c_fc): Linear(in_features=768, out_features=3072, bias=True)\n",
              "          (gelu): QuickGELU()\n",
              "          (c_proj): Linear(in_features=3072, out_features=768, bias=True)\n",
              "        )\n",
              "        (ln_2): LayerNorm((768,), eps=1e-05, elementwise_affine=True)\n",
              "      )\n",
              "      (11): ResidualAttentionBlock(\n",
              "        (attn): MultiheadAttention(\n",
              "          (out_proj): NonDynamicallyQuantizableLinear(in_features=768, out_features=768, bias=True)\n",
              "        )\n",
              "        (ln_1): LayerNorm((768,), eps=1e-05, elementwise_affine=True)\n",
              "        (mlp): Sequential(\n",
              "          (c_fc): Linear(in_features=768, out_features=3072, bias=True)\n",
              "          (gelu): QuickGELU()\n",
              "          (c_proj): Linear(in_features=3072, out_features=768, bias=True)\n",
              "        )\n",
              "        (ln_2): LayerNorm((768,), eps=1e-05, elementwise_affine=True)\n",
              "      )\n",
              "    )\n",
              "  )\n",
              "  (token_embedding): Embedding(49408, 768)\n",
              "  (ln_final): LayerNorm((768,), eps=1e-05, elementwise_affine=True)\n",
              ")"
            ]
          },
          "execution_count": 21,
          "metadata": {},
          "output_type": "execute_result"
        }
      ],
      "source": [
        "model, preprocess_model = clip.load(\"ViT-L/14\")\n",
        "model.cuda().eval()"
      ]
    },
    {
      "cell_type": "markdown",
      "metadata": {
        "id": "bhxYg--08gs-"
      },
      "source": [
        "**Preprocessing** the data from the **preprocess function of Clip model**"
      ]
    },
    {
      "cell_type": "code",
      "execution_count": 22,
      "metadata": {
        "id": "0E1_qYN3Op1M"
      },
      "outputs": [],
      "source": [
        "#<------------------------------------------------------------------------------------------------------------------------------------------------------------------------>\n",
        "real_t=[]\n",
        "#Iterating into each image\n",
        "for i in range(len(real)):\n",
        "  #Loading image\n",
        "  temp=Image.fromarray(real[i])\n",
        "  #Applying preprocessing function\n",
        "  real_t.append(preprocess_model(temp))\n",
        "#<------------------------------------------------------------------------------------------------------------------------------------------------------------------------>"
      ]
    },
    {
      "cell_type": "code",
      "execution_count": 23,
      "metadata": {
        "id": "KtWW_O3POsmi"
      },
      "outputs": [],
      "source": [
        "#<------------------------------------------------------------------------------------------------------------------------------------------------------------------------>\n",
        "fake_t=[]\n",
        "#Iterating into each image\n",
        "for i in range(len(fake)):\n",
        "  #Loading image\n",
        "  temp=Image.fromarray(fake[i])\n",
        "  #Applying preprocessing function\n",
        "  fake_t.append(preprocess_model(temp))\n",
        "#<------------------------------------------------------------------------------------------------------------------------------------------------------------------------>"
      ]
    },
    {
      "cell_type": "code",
      "execution_count": 24,
      "metadata": {
        "id": "M81Zg8U9OvBr"
      },
      "outputs": [],
      "source": [
        "#<------------------------------------------------------------------------------------------------------------------------------------------------------------------------>\n",
        "test_t=[]\n",
        "#Iterating into each image\n",
        "for i in range(len(test)):\n",
        "  #Loading image\n",
        "  temp=Image.fromarray(test[i])\n",
        "  #Applying preprocessing function\n",
        "  test_t.append(preprocess_model(temp))\n",
        "#<------------------------------------------------------------------------------------------------------------------------------------------------------------------------>"
      ]
    },
    {
      "cell_type": "markdown",
      "metadata": {},
      "source": [
        "**Stacking** all the images together and **converting** into **tensor format** using cuda"
      ]
    },
    {
      "cell_type": "code",
      "execution_count": 25,
      "metadata": {
        "id": "WPPrKz6rOxVP"
      },
      "outputs": [],
      "source": [
        "#<------------------------------------------------------------------------------------------------------------------------------------------------------------------------>\n",
        "real_tr=torch.tensor(np.stack(real_t)).cuda()\n",
        "fake_tr=torch.tensor(np.stack(fake_t)).cuda()\n",
        "test_tr=torch.tensor(np.stack(test_t)).cuda()\n",
        "#<------------------------------------------------------------------------------------------------------------------------------------------------------------------------>"
      ]
    },
    {
      "cell_type": "markdown",
      "metadata": {},
      "source": [
        "# **Encoding of Images into Feature Vectors**\n",
        "- Firstly it checks if GPU is available using torch.cuda.is_available(). If available, the device is set to CUDA (GPU); otherwise, it falls back to CPU.\n",
        "- The feature extraction process is performed on the image tensor using the CLIP model (model.encode_image()) with the with torch.no_grad() context manager to disable gradient tracking, as feature extraction does not require gradients."
      ]
    },
    {
      "cell_type": "markdown",
      "metadata": {},
      "source": [
        "Encoding for real Images"
      ]
    },
    {
      "cell_type": "code",
      "execution_count": 26,
      "metadata": {
        "colab": {
          "base_uri": "https://localhost:8080/"
        },
        "id": "deykoD-cO2Ny",
        "outputId": "df6a0674-5887-4faa-83b8-837a137a9d32"
      },
      "outputs": [
        {
          "data": {
            "text/plain": [
              "torch.Size([1000, 768])"
            ]
          },
          "execution_count": 26,
          "metadata": {},
          "output_type": "execute_result"
        }
      ],
      "source": [
        "#<------------------------------------------------------------------------------------------------------------------------------------------------------------------------>\n",
        "#Using GPU\n",
        "device = torch.device(\"cuda\" if torch.cuda.is_available() else \"cpu\") \n",
        "model = model.to(device)\n",
        "real_tr = real_tr.to(device)\n",
        "#<------------------------------------------------------------------------------------------------------------------------------------------------------------------------>\n",
        "#Encoding the image into its feature vector(1*786) using Clip Model \n",
        "with torch.no_grad():\n",
        "    features_real = model.encode_image(real_tr).float()\n",
        "features_real.shape\n",
        "#<------------------------------------------------------------------------------------------------------------------------------------------------------------------------>\n"
      ]
    },
    {
      "cell_type": "markdown",
      "metadata": {},
      "source": [
        "Encoding for fake images"
      ]
    },
    {
      "cell_type": "code",
      "execution_count": 27,
      "metadata": {
        "colab": {
          "base_uri": "https://localhost:8080/"
        },
        "id": "gMppVF2aO3od",
        "outputId": "7aba1731-4b7d-4475-9f73-95dd7b26b862"
      },
      "outputs": [
        {
          "data": {
            "text/plain": [
              "torch.Size([1000, 768])"
            ]
          },
          "execution_count": 27,
          "metadata": {},
          "output_type": "execute_result"
        }
      ],
      "source": [
        "#<------------------------------------------------------------------------------------------------------------------------------------------------------------------------>\n",
        "#using GPU\n",
        "device = torch.device(\"cuda\" if torch.cuda.is_available() else \"cpu\")\n",
        "model = model.to(device)\n",
        "fake_tr = fake_tr.to(device)\n",
        "#<------------------------------------------------------------------------------------------------------------------------------------------------------------------------>\n",
        "#Encoding the image into its feature vector(1*786) using Clip Model \n",
        "with torch.no_grad():\n",
        "    features_fake = model.encode_image(fake_tr).float()\n",
        "features_fake.shape\n",
        "#<------------------------------------------------------------------------------------------------------------------------------------------------------------------------>\n"
      ]
    },
    {
      "cell_type": "markdown",
      "metadata": {},
      "source": [
        "Encoding for testing images"
      ]
    },
    {
      "cell_type": "code",
      "execution_count": 28,
      "metadata": {
        "colab": {
          "base_uri": "https://localhost:8080/"
        },
        "id": "ZOebwVPuO5w7",
        "outputId": "6ebf0c8e-eca4-4382-cc46-91e3ab2410cf"
      },
      "outputs": [
        {
          "data": {
            "text/plain": [
              "torch.Size([1000, 768])"
            ]
          },
          "execution_count": 28,
          "metadata": {},
          "output_type": "execute_result"
        }
      ],
      "source": [
        "#<------------------------------------------------------------------------------------------------------------------------------------------------------------------------>\n",
        "#Using GPU\n",
        "device = torch.device(\"cuda\" if torch.cuda.is_available() else \"cpu\")\n",
        "model = model.to(device)\n",
        "test_tr = test_tr.to(device)\n",
        "#<------------------------------------------------------------------------------------------------------------------------------------------------------------------------>\n",
        "#Encoding the image into its feature vector(1*786) using Clip Model \n",
        "with torch.no_grad():\n",
        "    features_test = model.encode_image(test_tr).float()\n",
        "features_test.shape\n",
        "#<------------------------------------------------------------------------------------------------------------------------------------------------------------------------>\n"
      ]
    },
    {
      "cell_type": "markdown",
      "metadata": {},
      "source": [
        "**Saving** the **Encoded Images** in tensor format in a **.pt file**"
      ]
    },
    {
      "cell_type": "code",
      "execution_count": 71,
      "metadata": {
        "id": "CZ2J1lkIO8QG"
      },
      "outputs": [],
      "source": [
        "torch.save(features_real, \"/content/drive/MyDrive/real.pt\")\n",
        "torch.save(features_fake, \"/content/drive/MyDrive/fake.pt\")\n",
        "torch.save(features_test, \"/content/drive/MyDrive/test_dm.pt\")"
      ]
    },
    {
      "cell_type": "markdown",
      "metadata": {},
      "source": [
        "# **Loading the encoded images**"
      ]
    },
    {
      "cell_type": "code",
      "execution_count": 5,
      "metadata": {
        "id": "-xPhTNKlcbys"
      },
      "outputs": [],
      "source": [
        "features_fake=torch.load(\"/content/drive/MyDrive/Data/real.pt\") #Real\n",
        "features_real=torch.load(\"/content/drive/MyDrive/Data/fake.pt\") #Fake"
      ]
    },
    {
      "cell_type": "markdown",
      "metadata": {},
      "source": [
        "**Converting** them to **numpy format** from tensors"
      ]
    },
    {
      "cell_type": "code",
      "execution_count": 6,
      "metadata": {
        "id": "y4lDLdQaPTHH"
      },
      "outputs": [],
      "source": [
        "features_real=features_real.cpu().numpy()\n",
        "features_fake=features_fake.cpu().numpy()"
      ]
    },
    {
      "cell_type": "markdown",
      "metadata": {},
      "source": [
        "# **Plots**\n",
        "**Plotting a T-SNE plot for both real and fake images of ProGan Dataset**"
      ]
    },
    {
      "cell_type": "code",
      "execution_count": 83,
      "metadata": {
        "colab": {
          "base_uri": "https://localhost:8080/",
          "height": 564
        },
        "id": "yvRXVlj87ipP",
        "outputId": "ea26a5b5-af8a-4344-f964-2bbd93eadcdd"
      },
      "outputs": [
        {
          "data": {
            "image/png": "[encoded data removed]",
            "text/plain": [
              "<Figure size 800x600 with 1 Axes>"
            ]
          },
          "metadata": {},
          "output_type": "display_data"
        }
      ],
      "source": [
        "#<------------------------------------------------------------------------------------------------------------------------------------------------------------------------>\n",
        "#Importing Libraries\n",
        "from sklearn.manifold import TSNE\n",
        "import matplotlib.pyplot as plt\n",
        "#<------------------------------------------------------------------------------------------------------------------------------------------------------------------------>\n",
        "#Reducing the dimensionality\n",
        "tsne=TSNE(n_components=2, random_state=40)\n",
        "t1_p=tsne.fit_transform(features_real)\n",
        "t2_p=tsne.fit_transform(features_fake)\n",
        "#<------------------------------------------------------------------------------------------------------------------------------------------------------------------------>\n",
        "#Plotting them\n",
        "plt.figure(figsize=(8, 6))\n",
        "plt.scatter(t1_p[:, 0], t1_p[:, 1], color='blue', label='Real')\n",
        "plt.scatter(t2_p[:, 0], t2_p[:, 1], color='red', label='Fake')\n",
        "plt.legend()\n",
        "plt.title('T-SNE Visualization')\n",
        "plt.xlabel('Real')\n",
        "plt.ylabel('Fake')\n",
        "plt.show()\n",
        "#<------------------------------------------------------------------------------------------------------------------------------------------------------------------------>"
      ]
    },
    {
      "cell_type": "markdown",
      "metadata": {},
      "source": [
        "# **Implementing Nearest Neighbor Approach**"
      ]
    },
    {
      "cell_type": "markdown",
      "metadata": {},
      "source": [
        "**Funcion**:\n",
        "- It finds the nearest neighbor to a given test feature vector among a set of feature vectors using cosine similarity.\n",
        "\n",
        "**Parameters**:\n",
        "- test: The test feature vector for which the nearest neighbor is to be found.\n",
        "- features: A 2D array containing feature vectors among which to find the nearest neighbor.\n",
        "\n",
        "**Returns**:\n",
        "- nn_sim: The cosine similarity between the test feature vector and its nearest neighbor."
      ]
    },
    {
      "cell_type": "code",
      "execution_count": 7,
      "metadata": {
        "id": "QrnqSvqiT8Ko"
      },
      "outputs": [],
      "source": [
        "#<------------------------------------------------------------------------------------------------------------------------------------------------------------------------>\n",
        "from sklearn.metrics.pairwise import cosine_similarity\n",
        "def find_nn(test,features):\n",
        "    cos_sim=cosine_similarity(features, [test])\n",
        "    nn_ind=np.argmax(cos_sim)\n",
        "    n_nbg = features[nn_ind]\n",
        "    nn_sim = cos_sim[nn_ind][0]\n",
        "    return nn_sim\n",
        "#<------------------------------------------------------------------------------------------------------------------------------------------------------------------------>"
      ]
    },
    {
      "cell_type": "markdown",
      "metadata": {},
      "source": [
        "# **Testing Phase**\n",
        "- After training on ProGan now I am testing on **Glide-100** and **Laion**\n",
        "- The **test.pt** file is loaded and converted to a NumPy array (which contains Images from **Glide** and **Laion**)\n",
        "- A loop iterates over each feature vector in features_test.\n",
        "    - For each feature vector, the nearest neighbors are found in both the real and fake feature sets using the find_nn() function.\n",
        "    - That class which has less cosine similarity which means it is more closer to test image is assigned to the test image "
      ]
    },
    {
      "cell_type": "code",
      "execution_count": 24,
      "metadata": {
        "id": "Va0ZS-n3T9hV"
      },
      "outputs": [],
      "source": [
        "#<------------------------------------------------------------------------------------------------------------------------------------------------------------------------>\n",
        "#Loading the data\n",
        "features_test = torch.load(\"/content/drive/MyDrive/Data/test.pt\")\n",
        "#Converting into Numpy array\n",
        "features_test=features_test.cpu().numpy()\n",
        "#<------------------------------------------------------------------------------------------------------------------------------------------------------------------------>\n",
        "#A List to store the predicted class\n",
        "predicted=[]\n",
        "for j in features_test:\n",
        "    real_nn=find_nn(j,features_real)\n",
        "    fake_nn=find_nn(j,features_fake)\n",
        "\n",
        "    if real_nn>fake_nn: \n",
        "      predicted.append(1)\n",
        "    else:\n",
        "      predicted.append(0)\n",
        "#<------------------------------------------------------------------------------------------------------------------------------------------------------------------------>"
      ]
    },
    {
      "cell_type": "markdown",
      "metadata": {},
      "source": [
        "Calculating accuracy"
      ]
    },
    {
      "cell_type": "code",
      "execution_count": 25,
      "metadata": {
        "colab": {
          "base_uri": "https://localhost:8080/"
        },
        "id": "GCLuZFE6UQX2",
        "outputId": "fd56090d-1be3-4df7-9fc7-a8e831271e58"
      },
      "outputs": [
        {
          "name": "stdout",
          "output_type": "stream",
          "text": [
            "Accuracy:\n"
          ]
        },
        {
          "data": {
            "text/plain": [
              "75.2"
            ]
          },
          "execution_count": 25,
          "metadata": {},
          "output_type": "execute_result"
        }
      ],
      "source": [
        "#<------------------------------------------------------------------------------------------------------------------------------------------------------------------------>\n",
        "test_labels=np.concatenate([[0]*500,[1]*500])\n",
        "c=0\n",
        "for i in range(len(test_labels)):\n",
        "    if(predicted[i]==test_labels[i]):\n",
        "      c=c+1\n",
        "print(\"Accuracy:\")\n",
        "(c/len(test_labels))*100\n",
        "#<------------------------------------------------------------------------------------------------------------------------------------------------------------------------>"
      ]
    },
    {
      "cell_type": "markdown",
      "metadata": {},
      "source": [
        "# **Implementing Linear Classification Approach**\n",
        "\n",
        "For **Linear Classification**, I am training a neural network using TensorFlow's Keras API **(FCNN network)**\n",
        "\n",
        "1. **Data Preparation**: `features_real` and `features_fake` are concatenated into `X_train`and corresponding labels `Y_train` are defined. Then both are converted into numpy arrays\n",
        "\n",
        "2. **Hyperparameters**: \n",
        "    - **Batch Size:** 30 (as instructed in the research paper)\n",
        "    - **Epochs:** 7 (The model acheives a training accuracy of 1 so trained on less no of epochs)\n",
        "\n",
        "3. **Model Structure**: It consists of two fully connected layers: \n",
        "    - First layer has 768 units and uses the ReLU activation function.\n",
        "    - Output layer has 1 unit with a sigmoid activation function, for binary classification problems.\n",
        "\n",
        "4. **Model Compilation**: The model is compiled using the Adam optimizer and binary crossentropy loss function. \n",
        "    - Used **Adam** as optimizer\n",
        "    - Used **Binary crossentropy loss** as Loss Function\n"
      ]
    },
    {
      "cell_type": "markdown",
      "metadata": {},
      "source": [
        "# **Training Phase**"
      ]
    },
    {
      "cell_type": "code",
      "execution_count": 3,
      "metadata": {},
      "outputs": [],
      "source": [
        "#importing libraries\n",
        "from tensorflow.keras.models import Sequential\n",
        "from tensorflow.keras.layers import Dense"
      ]
    },
    {
      "cell_type": "code",
      "execution_count": 119,
      "metadata": {
        "id": "aVX_yMn4P3Zr"
      },
      "outputs": [],
      "source": [
        "#<------------------------------------------------------------------------------------------------------------------------------------------------------------------------>\n",
        "#Preparing data\n",
        "X_train=np.concatenate([features_real,features_fake])\n",
        "Y_train=[0]*len(features_real)\n",
        "Y_train.extend([1]*len(features_test))\n",
        "#<------------------------------------------------------------------------------------------------------------------------------------------------------------------------>\n",
        "#Converting into numpy format\n",
        "X_train=np.array(X_train)\n",
        "Y_train=np.array(Y_train)\n",
        "#<------------------------------------------------------------------------------------------------------------------------------------------------------------------------>"
      ]
    },
    {
      "cell_type": "code",
      "execution_count": 120,
      "metadata": {
        "colab": {
          "base_uri": "https://localhost:8080/"
        },
        "id": "tswsOikKPxZu",
        "outputId": "ae35a9bd-fd31-4c7d-9573-28153556ed44"
      },
      "outputs": [
        {
          "name": "stdout",
          "output_type": "stream",
          "text": [
            "Epoch 1/7\n",
            "67/67 [==============================] - 1s 3ms/step - loss: 0.1905 - accuracy: 0.9150\n",
            "Epoch 2/7\n",
            "67/67 [==============================] - 0s 3ms/step - loss: 0.0491 - accuracy: 0.9840\n",
            "Epoch 3/7\n",
            "67/67 [==============================] - 0s 3ms/step - loss: 0.0220 - accuracy: 0.9960\n",
            "Epoch 4/7\n",
            "67/67 [==============================] - 0s 3ms/step - loss: 0.0161 - accuracy: 0.9975\n",
            "Epoch 5/7\n",
            "67/67 [==============================] - 0s 4ms/step - loss: 0.0065 - accuracy: 1.0000\n",
            "Epoch 6/7\n",
            "67/67 [==============================] - 0s 3ms/step - loss: 0.0029 - accuracy: 1.0000\n",
            "Epoch 7/7\n",
            "67/67 [==============================] - 0s 3ms/step - loss: 0.0019 - accuracy: 1.0000\n"
          ]
        },
        {
          "data": {
            "text/plain": [
              "<keras.src.callbacks.History at 0x7cb9687213c0>"
            ]
          },
          "execution_count": 120,
          "metadata": {},
          "output_type": "execute_result"
        }
      ],
      "source": [
        "#<------------------------------------------------------------------------------------------------------------------------------------------------------------------------>\n",
        "#Hyperparameters\n",
        "batch_size=30\n",
        "epochs=7\n",
        "#<------------------------------------------------------------------------------------------------------------------------------------------------------------------------>\n",
        "#model structure\n",
        "model_lc = Sequential()\n",
        "model_lc.add(Dense(units=768, input_shape=(768,), activation='relu'))\n",
        "model_lc.add(Dense(units=1, activation='sigmoid'))\n",
        "#<------------------------------------------------------------------------------------------------------------------------------------------------------------------------>\n",
        "#Training the model\n",
        "model_lc.compile(optimizer='adam', loss='binary_crossentropy', metrics=['accuracy'])\n",
        "model_lc.fit(X_train, Y_train, epochs=epochs, batch_size=batch_size)\n",
        "#<------------------------------------------------------------------------------------------------------------------------------------------------------------------------>"
      ]
    },
    {
      "cell_type": "markdown",
      "metadata": {},
      "source": [
        "# **Testing Phase**\n",
        "- Firstly we load the saved tensors\n",
        "- Then convert them to nunpy format\n",
        "- Then calculate the accuracy using the model above"
      ]
    },
    {
      "cell_type": "markdown",
      "metadata": {
        "id": "MPqTMZ7OWrJv"
      },
      "source": [
        "1. **Cycle GAN**"
      ]
    },
    {
      "cell_type": "code",
      "execution_count": 136,
      "metadata": {
        "colab": {
          "base_uri": "https://localhost:8080/"
        },
        "id": "AItLPveHQZo7",
        "outputId": "4ccd9f04-6d65-41ca-f1ea-9adf9d227ca4"
      },
      "outputs": [
        {
          "name": "stdout",
          "output_type": "stream",
          "text": [
            "Accuracy:\n",
            "32/32 [==============================] - 0s 3ms/step - loss: 0.0824 - accuracy: 0.9730\n"
          ]
        },
        {
          "data": {
            "text/plain": [
              "0.9729999899864197"
            ]
          },
          "execution_count": 136,
          "metadata": {},
          "output_type": "execute_result"
        }
      ],
      "source": [
        "#<------------------------------------------------------------------------------------------------------------------------------------------------------------------------>\n",
        "#Loading data\n",
        "features_test=torch.load(\"/content/drive/MyDrive/test_cg.pt\")\n",
        "#Converting into tensor format\n",
        "features_test=features_test.cpu().numpy()\n",
        "#Test labels\n",
        "test_labels=np.concatenate([[0]*500,[1]*500])\n",
        "X_test=np.array(features_test)\n",
        "Y_labels=np.array(test_labels)\n",
        "#<------------------------------------------------------------------------------------------------------------------------------------------------------------------------>\n",
        "#Testing\n",
        "print(\"Accuracy:\")\n",
        "model_lc.evaluate(X_test,Y_labels)[1]\n",
        "#<------------------------------------------------------------------------------------------------------------------------------------------------------------------------>"
      ]
    },
    {
      "cell_type": "markdown",
      "metadata": {
        "id": "uQ1LvMZOXMWN"
      },
      "source": [
        "2. **Dalle-100 and Laion**"
      ]
    },
    {
      "cell_type": "code",
      "execution_count": 135,
      "metadata": {
        "colab": {
          "base_uri": "https://localhost:8080/"
        },
        "id": "TAXAbugKRLy0",
        "outputId": "8d3b1074-0188-4dd0-fa6b-d15369d4810b"
      },
      "outputs": [
        {
          "name": "stdout",
          "output_type": "stream",
          "text": [
            "Accuracy:\n",
            "32/32 [==============================] - 0s 2ms/step - loss: 0.4469 - accuracy: 0.8690\n"
          ]
        },
        {
          "data": {
            "text/plain": [
              "0.8690000176429749"
            ]
          },
          "execution_count": 135,
          "metadata": {},
          "output_type": "execute_result"
        }
      ],
      "source": [
        "#<------------------------------------------------------------------------------------------------------------------------------------------------------------------------>\n",
        "#Loading data\n",
        "features_test=torch.load(\"/content/drive/MyDrive/test_dm.pt\")\n",
        "features_test=features_test.cpu().numpy()\n",
        "test_labels=np.concatenate([[0]*500,[1]*500])\n",
        "X_test=np.array(features_test)\n",
        "Y_labels=np.array(test_labels)\n",
        "#<------------------------------------------------------------------------------------------------------------------------------------------------------------------------>\n",
        "#Testing phase\n",
        "print(\"Accuracy:\")\n",
        "model_lc.evaluate(X_test,Y_labels)[1]\n",
        "#<------------------------------------------------------------------------------------------------------------------------------------------------------------------------>"
      ]
    },
    {
      "cell_type": "markdown",
      "metadata": {
        "id": "C6Uht3MsYZ89"
      },
      "source": [
        "3. **Glide-100 and Laion**"
      ]
    },
    {
      "cell_type": "code",
      "execution_count": 130,
      "metadata": {
        "colab": {
          "base_uri": "https://localhost:8080/"
        },
        "id": "qvd_PkniXOjP",
        "outputId": "f3279282-091e-40a7-ff08-d2658cae5330"
      },
      "outputs": [
        {
          "name": "stdout",
          "output_type": "stream",
          "text": [
            "Accuracy:\n",
            "32/32 [==============================] - 0s 2ms/step - loss: 0.2380 - accuracy: 0.9290\n"
          ]
        },
        {
          "data": {
            "text/plain": [
              "0.9290000200271606"
            ]
          },
          "execution_count": 130,
          "metadata": {},
          "output_type": "execute_result"
        }
      ],
      "source": [
        "#<------------------------------------------------------------------------------------------------------------------------------------------------------------------------>\n",
        "#Loading data\n",
        "features_test=torch.load(\"/content/drive/MyDrive/Data/test1.pt\")\n",
        "features_test=features_test.cpu().numpy()\n",
        "test_labels=np.concatenate([[1]*500,[0]*500])\n",
        "X_test=np.array(features_test[:1000])\n",
        "Y_labels=np.array(test_labels)\n",
        "#<------------------------------------------------------------------------------------------------------------------------------------------------------------------------>\n",
        "# Testing phase\n",
        "print(\"Accuracy:\")\n",
        "model_lc.evaluate(X_test,Y_labels)[1]\n",
        "#<------------------------------------------------------------------------------------------------------------------------------------------------------------------------>"
      ]
    }
  ],
  "metadata": {
    "colab": {
      "provenance": []
    },
    "kernelspec": {
      "display_name": "Python 3",
      "name": "python3"
    },
    "language_info": {
      "codemirror_mode": {
        "name": "ipython",
        "version": 3
      },
      "file_extension": ".py",
      "mimetype": "text/x-python",
      "name": "python",
      "nbconvert_exporter": "python",
      "pygments_lexer": "ipython3",
      "version": "3.11.0"
    }
  },
  "nbformat": 4,
  "nbformat_minor": 0
}
